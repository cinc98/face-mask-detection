{
 "cells": [
  {
   "cell_type": "code",
   "execution_count": 1,
   "metadata": {},
   "outputs": [],
   "source": [
    "import numpy as np # linear algebra\n",
    "import pandas as pd # data processing, CSV file I/O (e.g. pd.read_csv)\n",
    "from sklearn.model_selection import train_test_split\n",
    "\n",
    "from tensorflow.keras.models import Sequential\n",
    "from tensorflow.keras.layers import Conv2D,MaxPooling2D,AveragePooling2D,Dense,Flatten,Dropout\n",
    "from tensorflow.keras.optimizers import Adam\n",
    "from sklearn.utils import shuffle\n",
    "from joblib import dump, load\n",
    "from tensorflow.keras.models import load_model\n",
    "from tensorflow.keras.models import save_model\n",
    "\n",
    "from imutils import face_utils\n",
    "import argparse\n",
    "import imutils\n",
    "import dlib\n",
    "from datetime import datetime\n",
    "\n",
    "import os\n",
    "import cv2\n",
    "\n"
   ]
  },
  {
   "cell_type": "code",
   "execution_count": 2,
   "metadata": {},
   "outputs": [],
   "source": [
    "def reshape_data(input_data):\n",
    "    nsamples, nx, ny = input_data.shape\n",
    "    return input_data.reshape((nsamples, nx*ny))\n",
    "\n",
    "def load_image(path):\n",
    "    return cv2.cvtColor(cv2.imread(path), cv2.COLOR_BGR2GRAY)\n",
    "\n",
    "# inicijalizaclija dlib detektora (HOG)\n",
    "detector = dlib.get_frontal_face_detector()\n",
    "# ucitavanje pretreniranog modela za prepoznavanje karakteristicnih tacaka\n",
    "predictor = dlib.shape_predictor('shape_predictor_68_face_landmarks.dat')"
   ]
  },
  {
   "cell_type": "code",
   "execution_count": 3,
   "metadata": {},
   "outputs": [],
   "source": [
    "X = []\n",
    "Y = []\n",
    "for image_name in os.listdir('dataset/without_mask'):\n",
    "            resized = cv2.resize(cv2.imread('dataset/without_mask/' + image_name), (64,64))\n",
    "            X.append(resized)\n",
    "            Y.append(0)\n",
    "            \n",
    "            \n",
    "for image_name in os.listdir('dataset/with_mask'):\n",
    "            resized = cv2.resize(cv2.imread('dataset/with_mask/' + image_name), (64,64))\n",
    "            X.append(resized)\n",
    "            Y.append(1)\n"
   ]
  },
  {
   "cell_type": "code",
   "execution_count": 4,
   "metadata": {},
   "outputs": [],
   "source": [
    "X_train,X_test,y_train,y_test = train_test_split(X,Y,test_size = 0.2)\n",
    "\n",
    "X_train = np.asarray(X_train)\n",
    "X_test = np.asarray(X_test)\n",
    "y_train = np.asarray(y_train)\n",
    "y_test = np.asarray(y_test)"
   ]
  },
  {
   "cell_type": "code",
   "execution_count": 3,
   "metadata": {
    "scrolled": false
   },
   "outputs": [
    {
     "name": "stdout",
     "output_type": "stream",
     "text": [
      "ucitan model\n"
     ]
    }
   ],
   "source": [
    "try:\n",
    "    cnn = load_model('model/cnn.h5')\n",
    "    print('ucitan model')\n",
    "except Exception as e:\n",
    "    cnn = None\n",
    "    \n",
    "if cnn == None:\n",
    "\n",
    "    cnn = Sequential()\n",
    "    cnn.add(Conv2D(filters = 32, kernel_size =(3,3), \n",
    "                   activation = 'relu',input_shape = (64,64,3)))\n",
    "    cnn.add(Conv2D(filters = 32, kernel_size =(3,3), \n",
    "                   activation = 'relu'))\n",
    "    cnn.add(MaxPooling2D(2,2))\n",
    "    cnn.add(Dropout(0.3))\n",
    "\n",
    "    cnn.add(Conv2D(filters = 64, kernel_size =(3,3), activation = 'relu'))\n",
    "    cnn.add(Conv2D(filters = 64, kernel_size =(3,3), \n",
    "                   activation = 'relu'))\n",
    "    cnn.add(MaxPooling2D(2,2))\n",
    "    cnn.add(Dropout(0.2))\n",
    "\n",
    "    cnn.add(Flatten())\n",
    "\n",
    "    cnn.add(Dense(units = 512, activation = 'relu'))\n",
    "    cnn.add(Dense(units = 512, activation = 'relu'))\n",
    "    cnn.add(Dense(units = 1, activation = 'sigmoid'))\n",
    "\n",
    "    cnn.compile(loss = 'binary_crossentropy',\n",
    "                optimizer = 'adam',\n",
    "                metrics = ['accuracy'])\n",
    "\n",
    "    X_train = X_train/255\n",
    "    X_test = X_test/255\n",
    "\n",
    "    X_train, y_train = shuffle(X_train, y_train)\n",
    "\n",
    "    hist = cnn.fit(X_train,y_train,epochs = 10,batch_size = 64,verbose = 1, validation_split = 0.2)\n",
    "    \n",
    "    model = save_model(cnn, 'model/cnn.h5')\n"
   ]
  },
  {
   "cell_type": "code",
   "execution_count": 6,
   "metadata": {},
   "outputs": [],
   "source": [
    "pred = cnn.predict(X_test)"
   ]
  },
  {
   "cell_type": "code",
   "execution_count": 7,
   "metadata": {},
   "outputs": [],
   "source": [
    "pred[pred>0.5]=1\n",
    "pred[pred!=1]=0"
   ]
  },
  {
   "cell_type": "code",
   "execution_count": 8,
   "metadata": {},
   "outputs": [
    {
     "data": {
      "text/plain": [
       "array([[84,  0],\n",
       "       [ 1, 72]], dtype=int64)"
      ]
     },
     "execution_count": 8,
     "metadata": {},
     "output_type": "execute_result"
    }
   ],
   "source": [
    "from sklearn.metrics import confusion_matrix\n",
    "cm = confusion_matrix(y_test,pred)\n",
    "cm\n"
   ]
  },
  {
   "cell_type": "code",
   "execution_count": 9,
   "metadata": {},
   "outputs": [
    {
     "data": {
      "text/plain": [
       "0.9935931442562742"
      ]
     },
     "execution_count": 9,
     "metadata": {},
     "output_type": "execute_result"
    }
   ],
   "source": [
    "from sklearn.metrics import f1_score\n",
    "score=f1_score(y_test, pred, average='macro')\n",
    "score"
   ]
  },
  {
   "cell_type": "code",
   "execution_count": 7,
   "metadata": {},
   "outputs": [],
   "source": [
    "cap = cv2.VideoCapture(0)\n",
    "\n",
    "\n",
    "nbins = 9  # broj binova\n",
    "cell_size = (8, 8)  # broj piksela po celiji\n",
    "block_size = (3, 3)  # broj celija po bloku\n",
    "\n",
    "dim = (244, 244)\n",
    "\n",
    "\n",
    "while(True):\n",
    "    # Capture frame-by-frame\n",
    "    ret, frame = cap.read()\n",
    "    \n",
    "    features = [];\n",
    "    gray = cv2.cvtColor(frame, cv2.COLOR_BGR2GRAY)\n",
    "    rects = detector(gray, 1)\n",
    "    for (b, rect) in enumerate(rects):\n",
    "\n",
    "        shape = predictor(gray, rect)\n",
    "        shape = face_utils.shape_to_np(shape)\n",
    "        \n",
    "        (xosa, yosa, w, h) = face_utils.rect_to_bb(rect)\n",
    "        face = frame[yosa:yosa + h, xosa:xosa + w]\n",
    "           \n",
    "    resized = cv2.resize(face, (64,64))\n",
    "\n",
    "    features.append(resized)\n",
    "\n",
    "    x = np.array(features)\n",
    "    x = x/255\n",
    "        \n",
    "    pred = cnn.predict(x)\n",
    "\n",
    "    if pred < 0.5:\n",
    "        cv2.rectangle(frame, (xosa, yosa), (xosa + w, yosa + h), (0, 0, 255), 2)\n",
    "        cv2.putText(frame, \"without mask\", (xosa, yosa),\n",
    "        cv2.FONT_HERSHEY_SIMPLEX, 0.5, (0, 0, 255), 2)\n",
    "    else:\n",
    "        cv2.rectangle(frame, (xosa, yosa), (xosa + w, yosa + h), (0, 255, 0), 2)\n",
    "        cv2.putText(frame, \"with mask\", (xosa, yosa),\n",
    "        cv2.FONT_HERSHEY_SIMPLEX, 0.5, (0, 255, 0), 2)\n",
    "\n",
    "\n",
    "    cv2.imshow('frame',frame)\n",
    "    if cv2.waitKey(1) & 0xFF == ord('q'):\n",
    "        break\n",
    "\n",
    "# When everything done, release the capture\n",
    "cap.release()\n",
    "cv2.destroyAllWindows()"
   ]
  },
  {
   "cell_type": "code",
   "execution_count": 5,
   "metadata": {
    "scrolled": false
   },
   "outputs": [
    {
     "name": "stdout",
     "output_type": "stream",
     "text": [
      "Tacnost: 93.75\n",
      "Ukupno vreme: 0:00:00.682539\n"
     ]
    }
   ],
   "source": [
    "file=open('dataset/annotations.csv')\n",
    "data = file.read()\n",
    "lines = data.split('\\n')\n",
    "facial_expression=[]\n",
    "br_tacnih=0\n",
    "ukupno=0\n",
    "before = datetime.now()\n",
    "\n",
    "for index, line in enumerate(lines):\n",
    "    cols = line.split(',')\n",
    "    if cols and cols[0] == '':\n",
    "        continue\n",
    "    cols[0] = cols[0].replace('\\r', '')\n",
    "    cols[1] = cols[1].replace('\\r', '')\n",
    "\n",
    "    features = [];\n",
    "\n",
    "    img = cv2.imread('dataset/test/' + cols[0])\n",
    "           \n",
    "    resized = cv2.resize(img, (64,64))\n",
    "    features.append(resized)\n",
    "\n",
    "    x = np.array(features)\n",
    "    x = x/255\n",
    "\n",
    "    pred = cnn.predict(x)\n",
    "    \n",
    "\n",
    "    predikcija=1\n",
    "    if pred < 0.5:\n",
    "        predikcija=0\n",
    "\n",
    "#     print(cols[1])\n",
    "#     print(predikcija)\n",
    "#     print(cols[0])\n",
    "#     print('---------------')\n",
    "\n",
    "    ukupno+=1\n",
    "    if int(predikcija) == int(cols[1]):\n",
    "        br_tacnih+=1\n",
    "        \n",
    "after = datetime.now()\n",
    "    \n",
    "    \n",
    "print('Tacnost: '+ str(br_tacnih/ukupno*100))\n",
    "print('Ukupno vreme: '+ str(after-before))"
   ]
  },
  {
   "cell_type": "code",
   "execution_count": null,
   "metadata": {},
   "outputs": [],
   "source": []
  }
 ],
 "metadata": {
  "kernelspec": {
   "display_name": "Python 3",
   "language": "python",
   "name": "python3"
  },
  "language_info": {
   "codemirror_mode": {
    "name": "ipython",
    "version": 3
   },
   "file_extension": ".py",
   "mimetype": "text/x-python",
   "name": "python",
   "nbconvert_exporter": "python",
   "pygments_lexer": "ipython3",
   "version": "3.6.10"
  }
 },
 "nbformat": 4,
 "nbformat_minor": 4
}
